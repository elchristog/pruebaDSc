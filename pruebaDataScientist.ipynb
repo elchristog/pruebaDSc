{
  "nbformat": 4,
  "nbformat_minor": 0,
  "metadata": {
    "colab": {
      "name": "pruebaDataScientist.ipynb",
      "provenance": [],
      "collapsed_sections": [],
      "include_colab_link": true
    },
    "kernelspec": {
      "name": "python3",
      "display_name": "Python 3"
    },
    "language_info": {
      "name": "python"
    }
  },
  "cells": [
    {
      "cell_type": "markdown",
      "metadata": {
        "id": "view-in-github",
        "colab_type": "text"
      },
      "source": [
        "<a href=\"https://colab.research.google.com/github/elchristog/pruebaDSc/blob/main/pruebaDataScientist.ipynb\" target=\"_parent\"><img src=\"https://colab.research.google.com/assets/colab-badge.svg\" alt=\"Open In Colab\"/></a>"
      ]
    },
    {
      "cell_type": "markdown",
      "metadata": {
        "id": "XT_TfaJM_aaR"
      },
      "source": [
        "# Creando repo"
      ]
    },
    {
      "cell_type": "code",
      "metadata": {
        "colab": {
          "base_uri": "https://localhost:8080/"
        },
        "id": "yzg9csWQ_NNy",
        "outputId": "87dc4ebc-bbf9-4bc3-cf9e-0f4d83dcf911"
      },
      "source": [
        "!git init pruebaDSc"
      ],
      "execution_count": null,
      "outputs": [
        {
          "output_type": "stream",
          "text": [
            "Initialized empty Git repository in /content/gdrive/My Drive/github/pruebaDSc/.git/\n"
          ],
          "name": "stdout"
        }
      ]
    },
    {
      "cell_type": "code",
      "metadata": {
        "colab": {
          "base_uri": "https://localhost:8080/"
        },
        "id": "NLwqB7AB_Sc0",
        "outputId": "eef23819-a1c1-446c-e011-a31c9ececc97"
      },
      "source": [
        "%cd pruebaDSc/"
      ],
      "execution_count": null,
      "outputs": [
        {
          "output_type": "stream",
          "text": [
            "/content/gdrive/My Drive/github/pruebaDSc\n"
          ],
          "name": "stdout"
        }
      ]
    },
    {
      "cell_type": "code",
      "metadata": {
        "colab": {
          "base_uri": "https://localhost:8080/"
        },
        "id": "E6wHqTAU_g6w",
        "outputId": "1792b4bf-b336-49fb-b621-43e51e7a5bce"
      },
      "source": [
        "%ls -a"
      ],
      "execution_count": null,
      "outputs": [
        {
          "output_type": "stream",
          "text": [
            "\u001b[0m\u001b[01;34m.git\u001b[0m/\n"
          ],
          "name": "stdout"
        }
      ]
    },
    {
      "cell_type": "markdown",
      "metadata": {
        "id": "VhpApNU7Tx9c"
      },
      "source": [
        "#Librerias"
      ]
    },
    {
      "cell_type": "code",
      "metadata": {
        "id": "ejXD7P37T3B1"
      },
      "source": [
        ""
      ],
      "execution_count": null,
      "outputs": []
    },
    {
      "cell_type": "markdown",
      "metadata": {
        "id": "eGKL9mJqTtzr"
      },
      "source": [
        "#Cargo datos"
      ]
    },
    {
      "cell_type": "code",
      "metadata": {
        "id": "oLA8zHZiTwdd"
      },
      "source": [
        ""
      ],
      "execution_count": null,
      "outputs": []
    }
  ]
}